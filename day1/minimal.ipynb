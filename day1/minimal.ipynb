{
 "cells": [
  {
   "cell_type": "code",
   "execution_count": 1,
   "metadata": {},
   "outputs": [],
   "source": [
    "%matplotlib widget"
   ]
  },
  {
   "cell_type": "markdown",
   "metadata": {},
   "source": [
    "# Interactive Python using jupyter notebooks"
   ]
  },
  {
   "cell_type": "markdown",
   "metadata": {},
   "source": [
    "- Notebooks are made of a sequence of cells\n",
    "- Cells can contain different content such as Python code, or Markdown\n",
    "- You can change the cell type in the toolbar\n",
    "- To execute a cell press \"Shift+Return\"\n",
    "- Use the tool bar to add, delete, copy, or insert cells"
   ]
  },
  {
   "cell_type": "markdown",
   "metadata": {},
   "source": [
    "(Note: to learn more about Markdown check [Daring Fireball's website](https://daringfireball.net/projects/markdown/syntax))"
   ]
  },
  {
   "cell_type": "markdown",
   "metadata": {},
   "source": [
    "## Import the Python package for numerical arrays (numpy)"
   ]
  },
  {
   "cell_type": "code",
   "execution_count": 2,
   "metadata": {
    "tags": []
   },
   "outputs": [],
   "source": [
    "import numpy as np"
   ]
  },
  {
   "cell_type": "markdown",
   "metadata": {},
   "source": [
    "## Define a function that creates some statistical data"
   ]
  },
  {
   "cell_type": "code",
   "execution_count": 3,
   "metadata": {
    "tags": []
   },
   "outputs": [],
   "source": [
    "def load_data():    \n",
    "    # Goalkeeper, defender, midfielder, attacker\n",
    "    possible_positions = ['GK', 'D', 'M', 'A']\n",
    "    N = 100\n",
    "    positions = []\n",
    "    heights = []\n",
    "    for i in range(0,N):\n",
    "        positions.append(possible_positions[np.random.randint(len(possible_positions))])\n",
    "        heights.append(np.random.normal(loc=180.0,scale=5.0))\n",
    "    return positions, heights"
   ]
  },
  {
   "cell_type": "markdown",
   "metadata": {},
   "source": [
    "## Read the data"
   ]
  },
  {
   "cell_type": "code",
   "execution_count": 4,
   "metadata": {
    "tags": []
   },
   "outputs": [],
   "source": [
    "positions, heights = load_data()"
   ]
  },
  {
   "cell_type": "markdown",
   "metadata": {},
   "source": [
    "The objects ```positions``` and ```heights``` are lists as we can check using the Python function ```type```:"
   ]
  },
  {
   "cell_type": "code",
   "execution_count": 5,
   "metadata": {
    "collapsed": false,
    "jupyter": {
     "outputs_hidden": false
    }
   },
   "outputs": [
    {
     "name": "stdout",
     "output_type": "stream",
     "text": [
      "<class 'list'>\n",
      "<class 'list'>\n"
     ]
    }
   ],
   "source": [
    "print(type(positions))\n",
    "print(type(heights))"
   ]
  },
  {
   "cell_type": "markdown",
   "metadata": {},
   "source": [
    "Question: *How many items are inside the lists ```positions``` and ```heights```?\n",
    "\n",
    "Hint: Use the Python function ```len```. "
   ]
  },
  {
   "cell_type": "code",
   "execution_count": 6,
   "metadata": {
    "tags": []
   },
   "outputs": [
    {
     "name": "stdout",
     "output_type": "stream",
     "text": [
      "100\n",
      "100\n"
     ]
    }
   ],
   "source": [
    "print(len(positions))\n",
    "print(len(heights))"
   ]
  },
  {
   "cell_type": "markdown",
   "metadata": {},
   "source": [
    "## Convert to numpy arrays"
   ]
  },
  {
   "cell_type": "code",
   "execution_count": 7,
   "metadata": {
    "tags": []
   },
   "outputs": [],
   "source": [
    "np_positions = np.array(positions)\n",
    "np_heights = np.array(heights)"
   ]
  },
  {
   "cell_type": "markdown",
   "metadata": {},
   "source": [
    "Question: *what is the data type of ```np_positions``` and ```np_heights```*?<br>\n",
    "Question: *what is the shape of ```np_positions``` and ```np_heights```*?\n",
    "\n",
    "\n",
    "Hint: Numpy objects have member functions called ```dtype``` and ```shape```."
   ]
  },
  {
   "cell_type": "code",
   "execution_count": 8,
   "metadata": {
    "collapsed": false,
    "jupyter": {
     "outputs_hidden": false
    }
   },
   "outputs": [
    {
     "name": "stdout",
     "output_type": "stream",
     "text": [
      "<U2\n",
      "float64\n",
      "(100,)\n",
      "(100,)\n"
     ]
    }
   ],
   "source": [
    "print(np_positions.dtype)\n",
    "print(np_heights.dtype)\n",
    "print(np_positions.shape)\n",
    "print(np_heights.shape)"
   ]
  },
  {
   "cell_type": "markdown",
   "metadata": {},
   "source": [
    "## Extract the heights of the goalkeepers"
   ]
  },
  {
   "cell_type": "code",
   "execution_count": 9,
   "metadata": {
    "tags": []
   },
   "outputs": [],
   "source": [
    "gk_heights = np_heights[np_positions == 'GK']"
   ]
  },
  {
   "cell_type": "markdown",
   "metadata": {},
   "source": [
    "## Print the median of the goalkeepers heights"
   ]
  },
  {
   "cell_type": "code",
   "execution_count": 10,
   "metadata": {
    "collapsed": false,
    "jupyter": {
     "outputs_hidden": false
    }
   },
   "outputs": [
    {
     "name": "stdout",
     "output_type": "stream",
     "text": [
      "Median height of goalkeepers: 180.0765760973905\n"
     ]
    }
   ],
   "source": [
    "print(\"Median height of goalkeepers: \" + str(np.median(gk_heights)))"
   ]
  },
  {
   "cell_type": "markdown",
   "metadata": {},
   "source": [
    "Question: *what is the median height of all the field players*?<br>\n",
    "Question: *what is the median height of all the attackers*?<br>\n",
    "Question: *what is the median height of goalkeepers and the attackers combined?*"
   ]
  },
  {
   "cell_type": "code",
   "execution_count": 11,
   "metadata": {},
   "outputs": [
    {
     "name": "stdout",
     "output_type": "stream",
     "text": [
      "Median height of all field players: 179.8824734755899\n",
      "Median height of all the attackers: 179.9879935090447\n",
      "Median height of goalkeepers and attackers combined: 180.0322848032176\n"
     ]
    }
   ],
   "source": [
    "field_heights = np_heights[np_positions != 'GK']\n",
    "print(\"Median height of all field players: \" + str(np.median(field_heights)))\n",
    "\n",
    "atk_heights = np_heights[np_positions == 'A']\n",
    "print(\"Median height of all the attackers: \" + str(np.median(atk_heights)))\n",
    "\n",
    "gk_and_atk_heights = np_heights[(np_positions == 'GK') + (np_positions == 'A')]\n",
    "print(\"Median height of goalkeepers and attackers combined: \" + str(np.median(gk_and_atk_heights)))"
   ]
  },
  {
   "cell_type": "markdown",
   "metadata": {},
   "source": [
    "## More statistical tests"
   ]
  },
  {
   "cell_type": "markdown",
   "metadata": {},
   "source": [
    "Besides the ```median```, numpy als comes with the functions ```mean```, ```std```, ```min``` and ```max``` which are useful for investigating statistical data. "
   ]
  },
  {
   "cell_type": "markdown",
   "metadata": {},
   "source": [
    "Question: *Who is the shortest player (which position)*?<br>\n",
    "Question: *Who is the tallest player (which position)*?"
   ]
  },
  {
   "cell_type": "code",
   "execution_count": 12,
   "metadata": {
    "tags": []
   },
   "outputs": [
    {
     "name": "stdout",
     "output_type": "stream",
     "text": [
      "The shortest player plays in the GK position\n",
      "The tallest player plays in the A position\n"
     ]
    }
   ],
   "source": [
    "tallest_value = 0\n",
    "for position in ['GK', 'D', 'M', 'A']:\n",
    "    tval = np.amax(np_heights[np_positions == position])\n",
    "    if tval > tallest_value:\n",
    "        tallest_value = tval\n",
    "        tallest_position = position\n",
    "shortest_value = tallest_value\n",
    "for position in ['GK', 'D', 'M', 'A']:\n",
    "    sval = np.amin(np_heights[np_positions == position])\n",
    "    if sval < shortest_value:\n",
    "        shortest_value = sval\n",
    "        shortest_position = position\n",
    "    \n",
    "print(\"The shortest player plays in the {} position\".format(shortest_position))\n",
    "print(\"The tallest player plays in the {} position\".format(tallest_position))"
   ]
  },
  {
   "cell_type": "code",
   "execution_count": 13,
   "metadata": {},
   "outputs": [
    {
     "name": "stdout",
     "output_type": "stream",
     "text": [
      "Shortest GK: 191.45005829725702\n",
      "Shortest A: 192.0827238591128\n",
      "Shortest D: 190.91765045334637\n",
      "Shortest M: 188.56920479484432\n",
      "\n",
      "\n",
      "Tallest GK: 168.8608858620835\n",
      "Tallest A: 171.82844751231033\n",
      "Tallest D: 172.10836289639772\n",
      "Tallest M: 170.17902997488278\n"
     ]
    }
   ],
   "source": [
    "print(\"Shortest GK:\", np.amax(np_heights[np_positions == 'GK']))\n",
    "print(\"Shortest A:\", np.amax(np_heights[np_positions == 'A']))\n",
    "print(\"Shortest D:\", np.amax(np_heights[np_positions == 'D']))\n",
    "print(\"Shortest M:\", np.amax(np_heights[np_positions == 'M']))\n",
    "print(\"\\n\")\n",
    "print(\"Tallest GK:\", np.amin(np_heights[np_positions == 'GK']))\n",
    "print(\"Tallest A:\", np.amin(np_heights[np_positions == 'A']))\n",
    "print(\"Tallest D:\", np.amin(np_heights[np_positions == 'D']))\n",
    "print(\"Tallest M:\", np.amin(np_heights[np_positions == 'M']))"
   ]
  },
  {
   "cell_type": "markdown",
   "metadata": {},
   "source": [
    "## Data plotting"
   ]
  },
  {
   "cell_type": "markdown",
   "metadata": {},
   "source": [
    "For plotting, we need the package matplotlib"
   ]
  },
  {
   "cell_type": "code",
   "execution_count": 14,
   "metadata": {
    "tags": []
   },
   "outputs": [],
   "source": [
    "import matplotlib.pyplot as plt"
   ]
  },
  {
   "cell_type": "markdown",
   "metadata": {},
   "source": [
    "There are different display modes for matplotlib plots inside a jupyter notebook."
   ]
  },
  {
   "cell_type": "code",
   "execution_count": 15,
   "metadata": {
    "tags": []
   },
   "outputs": [],
   "source": [
    "# For inline plots use\n",
    "%matplotlib inline"
   ]
  },
  {
   "cell_type": "code",
   "execution_count": 16,
   "metadata": {
    "tags": []
   },
   "outputs": [
    {
     "name": "stdout",
     "output_type": "stream",
     "text": [
      "Warning: Cannot change to a different GUI toolkit: notebook. Using widget instead.\n"
     ]
    }
   ],
   "source": [
    "# For inline plots with interactive capabilities use\n",
    "%matplotlib notebook"
   ]
  },
  {
   "cell_type": "markdown",
   "metadata": {},
   "source": [
    "Lets visualize the height distribution of the defenders"
   ]
  },
  {
   "cell_type": "code",
   "execution_count": 17,
   "metadata": {
    "collapsed": false,
    "jupyter": {
     "outputs_hidden": false
    }
   },
   "outputs": [],
   "source": [
    "d_heights = np_heights[np_positions == 'D']"
   ]
  },
  {
   "cell_type": "code",
   "execution_count": 18,
   "metadata": {
    "collapsed": false,
    "jupyter": {
     "outputs_hidden": false
    }
   },
   "outputs": [
    {
     "data": {
      "application/vnd.jupyter.widget-view+json": {
       "model_id": "80ac3303ec434b60acffc931e04f3da2",
       "version_major": 2,
       "version_minor": 0
      },
      "image/png": "[encoded data removed]",
      "text/html": [
       "\n",
       "            <div style=\"display: inline-block;\">\n",
       "                <div class=\"jupyter-widgets widget-label\" style=\"text-align: center;\">\n",
       "                    Figure\n",
       "                </div>\n",
       "                <img src='data:image/png;base64,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' width=640.0/>\n",
       "            </div>\n",
       "        "
      ],
      "text/plain": [
       "Canvas(toolbar=Toolbar(toolitems=[('Home', 'Reset original view', 'home', 'home'), ('Back', 'Back to previous …"
      ]
     },
     "metadata": {},
     "output_type": "display_data"
    }
   ],
   "source": [
    "import IPython\n",
    "plt.figure()\n",
    "plt.hist(d_heights)\n",
    "plt.title('Defenders')\n",
    "plt.xlabel('Heights')\n",
    "plt.show()"
   ]
  },
  {
   "cell_type": "markdown",
   "metadata": {},
   "source": [
    "To figure out the tallest/shortest player, we can the max/min within each position"
   ]
  },
  {
   "cell_type": "code",
   "execution_count": 19,
   "metadata": {
    "tags": []
   },
   "outputs": [],
   "source": [
    "p = ['GK', 'D', 'M', 'A']\n",
    "p_max = [np_heights[np_positions == i].max() for i in p]"
   ]
  },
  {
   "cell_type": "code",
   "execution_count": 20,
   "metadata": {
    "collapsed": false,
    "jupyter": {
     "outputs_hidden": false
    }
   },
   "outputs": [
    {
     "data": {
      "application/vnd.jupyter.widget-view+json": {
       "model_id": "787c64ded39446979ba649a7484473e1",
       "version_major": 2,
       "version_minor": 0
      },
      "image/png": "[encoded data removed]",
      "text/html": [
       "\n",
       "            <div style=\"display: inline-block;\">\n",
       "                <div class=\"jupyter-widgets widget-label\" style=\"text-align: center;\">\n",
       "                    Figure\n",
       "                </div>\n",
       "                <img src='data:image/png;base64,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' width=640.0/>\n",
       "            </div>\n",
       "        "
      ],
      "text/plain": [
       "Canvas(toolbar=Toolbar(toolitems=[('Home', 'Reset original view', 'home', 'home'), ('Back', 'Back to previous …"
      ]
     },
     "metadata": {},
     "output_type": "display_data"
    }
   ],
   "source": [
    "plt.figure()\n",
    "plt.plot(range(len(p)), p_max)\n",
    "plt.gca().xaxis.set_ticks(range(len(p)))\n",
    "plt.gca().xaxis.set_ticklabels(p)\n",
    "plt.ylabel('Heights')\n",
    "plt.show()"
   ]
  },
  {
   "cell_type": "markdown",
   "metadata": {},
   "source": [
    "For inspiration on data plotting and more examples, check out the matplotlib gallery: [https://matplotlib.org/gallery.html](https://matplotlib.org/gallery.html)"
   ]
  },
  {
   "cell_type": "code",
   "execution_count": null,
   "metadata": {},
   "outputs": [],
   "source": []
  },
  {
   "cell_type": "code",
   "execution_count": null,
   "metadata": {},
   "outputs": [],
   "source": []
  },
  {
   "cell_type": "code",
   "execution_count": null,
   "metadata": {},
   "outputs": [],
   "source": []
  }
 ],
 "metadata": {
  "kernelspec": {
   "display_name": "Python 3",
   "language": "python",
   "name": "python3"
  },
  "language_info": {
   "codemirror_mode": {
    "name": "ipython",
    "version": 3
   },
   "file_extension": ".py",
   "mimetype": "text/x-python",
   "name": "python",
   "nbconvert_exporter": "python",
   "pygments_lexer": "ipython3",
   "version": "3.8.8"
  }
 },
 "nbformat": 4,
 "nbformat_minor": 4
}
